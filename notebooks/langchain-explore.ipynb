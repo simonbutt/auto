{
 "cells": [
  {
   "cell_type": "markdown",
   "id": "a2ca7371-0be4-431b-be61-e8e0998cf17b",
   "metadata": {},
   "source": [
    "# Langchain Explore"
   ]
  },
  {
   "cell_type": "code",
   "execution_count": 1,
   "id": "0e51af39-a958-4e97-b58a-c5704d4fca6b",
   "metadata": {
    "tags": []
   },
   "outputs": [],
   "source": [
    "from langchain.chat_models import ChatOpenAI\n",
    "from langchain.prompts.chat import (\n",
    "    ChatPromptTemplate,\n",
    "    ChatMessagePromptTemplate,\n",
    "    SystemMessagePromptTemplate,\n",
    "    AIMessagePromptTemplate,\n",
    "    HumanMessagePromptTemplate\n",
    ")\n",
    "from langchain.schema import (\n",
    "    AIMessage,\n",
    "    HumanMessage,\n",
    "    SystemMessage\n",
    ")"
   ]
  },
  {
   "cell_type": "code",
   "execution_count": 2,
   "id": "598fc642-b9ab-41b7-aa3d-ed82707f0667",
   "metadata": {
    "tags": []
   },
   "outputs": [],
   "source": [
    "chat = ChatOpenAI(temperature=0, model_name=\"gpt-3.5-turbo\", n=3)"
   ]
  },
  {
   "cell_type": "code",
   "execution_count": 9,
   "id": "d846ae71-3693-4898-b871-9e0453c85e9e",
   "metadata": {
    "tags": []
   },
   "outputs": [],
   "source": [
    "x = chat.generate([[HumanMessage(content=\"Tell me something interesting\")]])"
   ]
  },
  {
   "cell_type": "code",
   "execution_count": 13,
   "id": "e92b12dd-6ccd-4c84-91ff-61b9fc1e8935",
   "metadata": {
    "tags": []
   },
   "outputs": [
    {
     "ename": "AttributeError",
     "evalue": "'tuple' object has no attribute 'content'",
     "output_type": "error",
     "traceback": [
      "\u001b[0;31m---------------------------------------------------------------------------\u001b[0m",
      "\u001b[0;31mAttributeError\u001b[0m                            Traceback (most recent call last)",
      "Cell \u001b[0;32mIn[13], line 1\u001b[0m\n\u001b[0;32m----> 1\u001b[0m \u001b[43m[\u001b[49m\u001b[43mval\u001b[49m\u001b[38;5;241;43m.\u001b[39;49m\u001b[43mcontent\u001b[49m\u001b[43m \u001b[49m\u001b[38;5;28;43;01mfor\u001b[39;49;00m\u001b[43m \u001b[49m\u001b[43mval\u001b[49m\u001b[43m \u001b[49m\u001b[38;5;129;43;01min\u001b[39;49;00m\u001b[43m \u001b[49m\u001b[43mx\u001b[49m\u001b[43m \u001b[49m\u001b[43m]\u001b[49m\n",
      "Cell \u001b[0;32mIn[13], line 1\u001b[0m, in \u001b[0;36m<listcomp>\u001b[0;34m(.0)\u001b[0m\n\u001b[0;32m----> 1\u001b[0m [\u001b[43mval\u001b[49m\u001b[38;5;241;43m.\u001b[39;49m\u001b[43mcontent\u001b[49m \u001b[38;5;28;01mfor\u001b[39;00m val \u001b[38;5;129;01min\u001b[39;00m x ]\n",
      "\u001b[0;31mAttributeError\u001b[0m: 'tuple' object has no attribute 'content'"
     ]
    }
   ],
   "source": [
    "[val.content for val in x ]"
   ]
  },
  {
   "cell_type": "code",
   "execution_count": 15,
   "id": "3f991e43-b627-46e7-9e04-0909b01431c7",
   "metadata": {
    "tags": []
   },
   "outputs": [
    {
     "data": {
      "text/plain": [
       "[[ChatGeneration(text='Did you know that the shortest war in history was between Britain and Zanzibar in 1896? It lasted only 38 minutes!', generation_info=None, message=AIMessage(content='Did you know that the shortest war in history was between Britain and Zanzibar in 1896? It lasted only 38 minutes!', additional_kwargs={})),\n",
       "  ChatGeneration(text='Did you know that the shortest war in history was between Britain and Zanzibar in 1896? It lasted only 38 minutes!', generation_info=None, message=AIMessage(content='Did you know that the shortest war in history was between Britain and Zanzibar in 1896? It lasted only 38 minutes!', additional_kwargs={})),\n",
       "  ChatGeneration(text='Did you know that the shortest war in history was between Britain and Zanzibar in 1896? It lasted only 38 minutes!', generation_info=None, message=AIMessage(content='Did you know that the shortest war in history was between Britain and Zanzibar in 1896? It lasted only 38 minutes!', additional_kwargs={}))]]"
      ]
     },
     "execution_count": 15,
     "metadata": {},
     "output_type": "execute_result"
    }
   ],
   "source": [
    "x.generations"
   ]
  },
  {
   "cell_type": "code",
   "execution_count": null,
   "id": "1514ee38-069d-4d6c-be3a-5261daf0cd4b",
   "metadata": {
    "tags": []
   },
   "outputs": [],
   "source": [
    "? ChatOpenAI"
   ]
  },
  {
   "cell_type": "code",
   "execution_count": null,
   "id": "705b19a2-c63d-46d3-a3c9-89705e3cd704",
   "metadata": {
    "tags": []
   },
   "outputs": [],
   "source": [
    "system_prompt = \"\"\"You are an AI Python developer assistant.\n",
    "- You are building a KFP Pipeline component that takes an input and produces an output based on user requested actions.\n",
    "- All components are designed to be run on Vertex AI Pipelines.\n",
    "- The `google-cloud-aiplatform` and `openai` packages are already installed.\n",
    "- Follow the user's instructions carefully & to the letter.\n",
    "- At all times follow Python and kfp best practises\n",
    "- Minimize any other prose.\n",
    "- The component has to follow the template and only add the following sections:`COMPONENT_NAME`, `CONTAINER_IMAGE`, `PACKAGES_TO_INSTALL`, `INPUT_VARIABLES`, `INPUT_VARIABLES_TYPE`, `INPUT_VARIABLES_DESCRIPTION`, `RETURN_VARIABLES`, `RETURN_VARIABLES_TYPE`, `RETURN_VARIABLES_DESCRIPTION`, `COMPONENT_CODE`, `BRIEF_COMPONENT_DESCRIPTION`.\n",
    "\"\"\"\n",
    "\n",
    "system_message_prompt = SystemMessagePromptTemplate.from_template(system_prompt)"
   ]
  },
  {
   "cell_type": "code",
   "execution_count": null,
   "id": "4b5ad1e3-b331-4916-b0e7-fa47c6c1c77c",
   "metadata": {
    "tags": []
   },
   "outputs": [],
   "source": [
    "chat_prompt = ChatPromptTemplate.from_messages(\n",
    "    [\n",
    "        system_message_prompt,\n",
    "        \n",
    "    ]\n",
    ")"
   ]
  },
  {
   "cell_type": "code",
   "execution_count": null,
   "id": "d9dbebdb-4145-4f99-9c9c-09940e55bd52",
   "metadata": {},
   "outputs": [],
   "source": [
    "chat_prompt"
   ]
  },
  {
   "cell_type": "code",
   "execution_count": null,
   "id": "277ce7c9-c874-46d2-83a0-1ae645b20913",
   "metadata": {},
   "outputs": [],
   "source": []
  }
 ],
 "metadata": {
  "kernelspec": {
   "display_name": "Python 3 (ipykernel)",
   "language": "python",
   "name": "python3"
  },
  "language_info": {
   "codemirror_mode": {
    "name": "ipython",
    "version": 3
   },
   "file_extension": ".py",
   "mimetype": "text/x-python",
   "name": "python",
   "nbconvert_exporter": "python",
   "pygments_lexer": "ipython3",
   "version": "3.11.1"
  }
 },
 "nbformat": 4,
 "nbformat_minor": 5
}
