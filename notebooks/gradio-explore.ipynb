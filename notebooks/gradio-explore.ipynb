{
 "cells": [
  {
   "cell_type": "markdown",
   "id": "2320401c-53f9-4e4d-8508-a494be6d9435",
   "metadata": {},
   "source": [
    "# auto - gradio explore"
   ]
  },
  {
   "cell_type": "code",
   "execution_count": 1,
   "id": "d0b260fc-b1db-4f2e-973f-057b0329e1bf",
   "metadata": {
    "tags": []
   },
   "outputs": [],
   "source": [
    "import sys\n",
    "sys.path.append(\"..\")"
   ]
  },
  {
   "cell_type": "code",
   "execution_count": 7,
   "id": "94770e74-16bb-4a21-be76-81865e113f4a",
   "metadata": {
    "tags": []
   },
   "outputs": [],
   "source": [
    "import gradio as gr\n",
    "from pipelines.PipelineGen import PipelineGen\n",
    "import pipelines.prompts as prompt\n",
    "import os"
   ]
  },
  {
   "cell_type": "code",
   "execution_count": 3,
   "id": "bea99caf-2037-4810-b4a9-369866f00f17",
   "metadata": {
    "tags": []
   },
   "outputs": [],
   "source": [
    "pgen = PipelineGen(\n",
    "    system_prefix=prompt.COMPONNT_SYSTEM_PROMPT,\n",
    "    template_prompt=prompt.COMPONENT_TEMPLATE_PROMPT,\n",
    "    model_name=\"gpt-3.5-turbo\"\n",
    ")"
   ]
  },
  {
   "cell_type": "code",
   "execution_count": 4,
   "id": "292db33b-79be-48fa-925f-2e29b183fa10",
   "metadata": {
    "tags": []
   },
   "outputs": [],
   "source": [
    "gradio_examples = [\n",
    "    [\"Write a component that ingests a .csv file from GCS bucket path {GCS_BUCKET_PATH: string} as a Google Vertex Dataset\", 2],\n",
    "    [\"Write a component that ingests all .parquet files in GCS bucket path {GCS_BUCKET_PATH: string} and uploads them into Google Cloud BigQuery, {DATASET: string}:{TABLE: string}.\", 1],\n",
    "    [\"Write a component that takes a GCS path containing multiple images (either .png or .json) {image_path: string} from a GCS bucket and uses grabcut to segment the images into a foreground and background. The component should output the foreground and background images to the GCS bucket in folder path {output_gcs_folder: string}.\", 3]\n",
    "]"
   ]
  },
  {
   "cell_type": "code",
   "execution_count": 28,
   "id": "069e4465-bdec-4a63-a2e5-22bf905e410d",
   "metadata": {
    "tags": []
   },
   "outputs": [
    {
     "name": "stdout",
     "output_type": "stream",
     "text": [
      "Running on local URL:  http://127.0.0.1:7875\n",
      "\n",
      "To create a public link, set `share=True` in `launch()`.\n"
     ]
    },
    {
     "data": {
      "text/html": [
       "<div><iframe src=\"http://127.0.0.1:7875/\" width=\"100%\" height=\"500\" allow=\"autoplay; camera; microphone; clipboard-read; clipboard-write;\" frameborder=\"0\" allowfullscreen></iframe></div>"
      ],
      "text/plain": [
       "<IPython.core.display.HTML object>"
      ]
     },
     "metadata": {},
     "output_type": "display_data"
    },
    {
     "data": {
      "text/plain": []
     },
     "execution_count": 28,
     "metadata": {},
     "output_type": "execute_result"
    }
   ],
   "source": [
    "demo2 = gr.Blocks()\n",
    "\n",
    "with demo2:\n",
    "    \n",
    "    with gr.Row():\n",
    "        gr.Markdown(\"\"\"\n",
    "           # **auto** - Generate Vertex AI Pipeline Components with GPT-3.5\n",
    "           Create custom KFP components in minutes! (and soon test and deploy straight onto Vertex AI)\n",
    "        \"\"\")\n",
    "    \n",
    "    with gr.TabItem(\"ComponentGen\"):\n",
    "        with gr.Row():\n",
    "            with gr.Column(scale=1, min_width=600):\n",
    "                compgen_input = gr.Textbox(lines=6, label=\"Pipeline Component Description\", value=\"Write a component that \", interactive=True),\n",
    "        \n",
    "                nshot_input = gr.Slider(1, 5, value=3, label=\"n_shot\", step=1, interactive=True, info=\"Provides n shot predictions and a model review step to choose the most accurate prediction\"),\n",
    "                \n",
    "                compgen_button = gr.Button(\"Generate Component\")\n",
    "                # compgen_button.click(fn=PipelineGen., inputs=[compgen_input, nshot_input], outputs=[compgen_accuracy, compgen_output])\n",
    "                    \n",
    "                upload_button = gr.Button(\"Upload Component\")\n",
    "                # upload_button.click(fn=\"\", inputs=compgen_input, outputs=[])\n",
    "            with gr.Column(scale=1, min_width=600):\n",
    "                \n",
    "                compgen_output = gr.Code(language=\"python\", label=\"Component Code\", interactive=True)\n",
    "                compgen_accuracy = gr.Textbox(lines=2, label=\"Component Accuracy\", interactive=False)\n",
    "    with gr.TabItem(\"Review Prompt\"):\n",
    "        review_info = \"Review the following kfp component code snippets and return a snippet_name, accuracy_score and accuracy_summary for each component.\"\n",
    "        gr.Textbox(lines=12, label=\"Component Review Prompt Instructions\", info=review_info ,value=prompt.REVIEW_NSHOT_PROMPT, interactive=True)\n",
    "        update_prompt_button = gr.Button(\"Update\")\n",
    "        # update_prompt_button.click(fn=PipelineGen., inputs=review_info, outputs=[])\n",
    "        \n",
    "    with gr.TabItem(\"PipelineGen\"):\n",
    "        with gr.Row():\n",
    "            with gr.Column():\n",
    "                gr.Markdown(\"### Available Components\")\n",
    "                available_components = [val.replace(\".py\", \"\") for val in os.listdir(\"../lib/component/\") if \".py\" in val]\n",
    "                \n",
    "                selected_components = gr.CheckboxGroup(\n",
    "                    available_components,\n",
    "                    label=\"Components\", \n",
    "                    info=\"The following components are available:\",\n",
    "                    interactive=True\n",
    "                )\n",
    "        \n",
    "                with gr.Row():\n",
    "                    with gr.Column():\n",
    "                        compgen_button = gr.Button(\"Generate Pipeline\")\n",
    "                        # compgen_button.click(fn=PipelineGen., inputs=[compgen_input, nshot_input], outputs=[compgen_accuracy, compgen_output])\n",
    "                    with gr.Column():    \n",
    "                        upload_button = gr.Button(\"Upload Pipeline\")\n",
    "                        # upload_button.click(fn=\"\", inputs=compgen_input, outputs=[])\n",
    "            with gr.Column():\n",
    "                compgen_output = gr.Code(language=\"python\", label=\"Pipeline Code\", interactive=True)\n",
    "    \n",
    "    with gr.TabItem(\"Deploy\"):\n",
    "        \n",
    "        gr.Markdown(\"### Available Pipelines\")\n",
    "        available_pipelines = [val.replace(\".py\", \"\") for val in os.listdir(\"../lib/pipelines/\") if \".py\" in val]\n",
    "        \n",
    "        selected_pipeline = gr.Radio(available_pipelines, label=\"Choose the pipeline to deploy\")\n",
    "        \n",
    "        deploy_pipeline_button = gr.Button(\"Deploy\")\n",
    "        # deploy_pipeline_button.click(fn=PipelineGen., inputs=review_info, outputs=[])\n",
    "\n",
    "    \n",
    "    \n",
    "demo2.launch()"
   ]
  },
  {
   "cell_type": "code",
   "execution_count": null,
   "id": "dedd5755-1528-4780-9891-a7f8092c8622",
   "metadata": {},
   "outputs": [],
   "source": []
  }
 ],
 "metadata": {
  "kernelspec": {
   "display_name": "Python 3 (ipykernel)",
   "language": "python",
   "name": "python3"
  },
  "language_info": {
   "codemirror_mode": {
    "name": "ipython",
    "version": 3
   },
   "file_extension": ".py",
   "mimetype": "text/x-python",
   "name": "python",
   "nbconvert_exporter": "python",
   "pygments_lexer": "ipython3",
   "version": "3.11.1"
  }
 },
 "nbformat": 4,
 "nbformat_minor": 5
}
