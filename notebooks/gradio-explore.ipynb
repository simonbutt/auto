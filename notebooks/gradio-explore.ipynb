{
 "cells": [
  {
   "cell_type": "markdown",
   "id": "2320401c-53f9-4e4d-8508-a494be6d9435",
   "metadata": {},
   "source": [
    "# auto - gradio explore"
   ]
  },
  {
   "cell_type": "code",
   "execution_count": 5,
   "id": "d0b260fc-b1db-4f2e-973f-057b0329e1bf",
   "metadata": {
    "tags": []
   },
   "outputs": [],
   "source": [
    "import sys\n",
    "sys.path.append(\"..\")"
   ]
  },
  {
   "cell_type": "code",
   "execution_count": 6,
   "id": "94770e74-16bb-4a21-be76-81865e113f4a",
   "metadata": {
    "tags": []
   },
   "outputs": [],
   "source": [
    "import gradio as gr\n",
    "from pipelines.PipelineGen import PipelineGen\n",
    "import pipelines.prompts as prompt"
   ]
  },
  {
   "cell_type": "code",
   "execution_count": 7,
   "id": "bea99caf-2037-4810-b4a9-369866f00f17",
   "metadata": {
    "tags": []
   },
   "outputs": [],
   "source": [
    "pgen = PipelineGen(\n",
    "    system_prefix=prompt.COMPONNT_SYSTEM_PROMPT,\n",
    "    template_prompt=prompt.COMPONENT_TEMPLATE_PROMPT,\n",
    "    model_name=\"gpt-3.5-turbo\"\n",
    ")"
   ]
  },
  {
   "cell_type": "code",
   "execution_count": 8,
   "id": "cb74b4d0-ba00-415f-b810-a3345d8c778e",
   "metadata": {
    "tags": []
   },
   "outputs": [
    {
     "name": "stderr",
     "output_type": "stream",
     "text": [
      "/home/simon/.cache/pypoetry/virtualenvs/auto-qdtDlbRT-py3.11/lib/python3.11/site-packages/gradio/inputs.py:27: UserWarning: Usage of gradio.inputs is deprecated, and will not be supported in the future, please import your component from gradio.components\n",
      "  warnings.warn(\n",
      "/home/simon/.cache/pypoetry/virtualenvs/auto-qdtDlbRT-py3.11/lib/python3.11/site-packages/gradio/deprecation.py:40: UserWarning: `optional` parameter is deprecated, and it has no effect\n",
      "  warnings.warn(value)\n",
      "/home/simon/.cache/pypoetry/virtualenvs/auto-qdtDlbRT-py3.11/lib/python3.11/site-packages/gradio/deprecation.py:40: UserWarning: `numeric` parameter is deprecated, and it has no effect\n",
      "  warnings.warn(value)\n"
     ]
    }
   ],
   "source": [
    "gradio_inputs = [\n",
    "    gr.inputs.Textbox(lines=5, label=\"Pipeline Component Description\", placeholder=\"Write a component that \"),\n",
    "    gr.Slider(1, 5, value=3, label=\"n_shot\", step=1, info=\"Provides n shot predictions and a model review step to choose the most accurate prediction\"),\n",
    "]"
   ]
  },
  {
   "cell_type": "code",
   "execution_count": 9,
   "id": "b2f47f28-2fd8-43a8-b65e-d0ccb3c0d22f",
   "metadata": {
    "tags": []
   },
   "outputs": [
    {
     "name": "stderr",
     "output_type": "stream",
     "text": [
      "/home/simon/.cache/pypoetry/virtualenvs/auto-qdtDlbRT-py3.11/lib/python3.11/site-packages/gradio/outputs.py:22: UserWarning: Usage of gradio.outputs is deprecated, and will not be supported in the future, please import your components from gradio.components\n",
      "  warnings.warn(\n"
     ]
    }
   ],
   "source": [
    "gradio_outputs = [\n",
    "    gr.outputs.Textbox(label=\"Component Code\"), \n",
    "    gr.outputs.Textbox(label=\"Accuracy Prediction\")\n",
    "]"
   ]
  },
  {
   "cell_type": "code",
   "execution_count": 10,
   "id": "292db33b-79be-48fa-925f-2e29b183fa10",
   "metadata": {
    "tags": []
   },
   "outputs": [],
   "source": [
    "gradio_examples = [\n",
    "    [\"Write a component that ingests a .csv file from GCS bucket path {GCS_BUCKET_PATH: string} as a Google Vertex Dataset\", 2],\n",
    "    [\"Write a component that ingests all .parquet files in GCS bucket path {GCS_BUCKET_PATH: string} and uploads them into Google Cloud BigQuery, {DATASET: string}:{TABLE: string}.\", 1],\n",
    "    [\"Write a component that takes a GCS path containing multiple images (either .png or .json) {image_path: string} from a GCS bucket and uses grabcut to segment the images into a foreground and background. The component should output the foreground and background images to the GCS bucket in folder path {output_gcs_folder: string}.\", 3]\n",
    "]"
   ]
  },
  {
   "cell_type": "code",
   "execution_count": null,
   "id": "88ed143c-a9b2-4866-8e00-d316663dde33",
   "metadata": {
    "tags": []
   },
   "outputs": [],
   "source": [
    "demo = gr.Interface(\n",
    "    fn=pgen.generate_component,\n",
    "    inputs=gradio_inputs,\n",
    "    outputs=gradio_outputs,\n",
    "    examples=gradio_examples\n",
    ")\n"
   ]
  },
  {
   "cell_type": "code",
   "execution_count": null,
   "id": "516f2723-02fc-4efe-90a8-d1eac8f9c90d",
   "metadata": {
    "tags": []
   },
   "outputs": [],
   "source": [
    "\n",
    "demo.launch()\n"
   ]
  },
  {
   "cell_type": "code",
   "execution_count": 1,
   "id": "c1c36e14-8cc1-4958-88f6-df8e552e3b55",
   "metadata": {},
   "outputs": [
    {
     "name": "stderr",
     "output_type": "stream",
     "text": [
      "/home/simon/.cache/pypoetry/virtualenvs/auto-qdtDlbRT-py3.11/lib/python3.11/site-packages/tqdm/auto.py:21: TqdmWarning: IProgress not found. Please update jupyter and ipywidgets. See https://ipywidgets.readthedocs.io/en/stable/user_install.html\n",
      "  from .autonotebook import tqdm as notebook_tqdm\n"
     ]
    }
   ],
   "source": [
    "# Gradio Blocks\n",
    "import gradio as gr"
   ]
  },
  {
   "cell_type": "code",
   "execution_count": 2,
   "id": "77ff916a-a48d-4d79-93a1-785f990bdb05",
   "metadata": {
    "tags": []
   },
   "outputs": [],
   "source": [
    "demo2 = gr.Blocks()"
   ]
  },
  {
   "cell_type": "code",
   "execution_count": 13,
   "id": "069e4465-bdec-4a63-a2e5-22bf905e410d",
   "metadata": {
    "tags": []
   },
   "outputs": [
    {
     "name": "stderr",
     "output_type": "stream",
     "text": [
      "/home/simon/.cache/pypoetry/virtualenvs/auto-qdtDlbRT-py3.11/lib/python3.11/site-packages/gradio/inputs.py:27: UserWarning: Usage of gradio.inputs is deprecated, and will not be supported in the future, please import your component from gradio.components\n",
      "  warnings.warn(\n",
      "/home/simon/.cache/pypoetry/virtualenvs/auto-qdtDlbRT-py3.11/lib/python3.11/site-packages/gradio/deprecation.py:40: UserWarning: `optional` parameter is deprecated, and it has no effect\n",
      "  warnings.warn(value)\n",
      "/home/simon/.cache/pypoetry/virtualenvs/auto-qdtDlbRT-py3.11/lib/python3.11/site-packages/gradio/deprecation.py:40: UserWarning: `numeric` parameter is deprecated, and it has no effect\n",
      "  warnings.warn(value)\n"
     ]
    }
   ],
   "source": [
    "with demo2:\n",
    "    \n",
    "    with gr.Row():\n",
    "        gr.Markdown(\"\"\"\n",
    "           # **auto** - KFP component development assistant!\n",
    "           Create custom KFP components in minutes! (and soon test and deploy straight onto Vertex AI)\n",
    "        \"\"\")\n",
    "    \n",
    "    with gr.Row():\n",
    "        gr.inputs.Textbox(lines=5, label=\"Pipeline Component Description\", placeholder=\"Write a component that \"),\n",
    "        gr.Slider(1, 5, value=3, label=\"n_shot\", step=1, info=\"Provides n shot predictions and a model review step to choose the most accurate prediction\"),"
   ]
  },
  {
   "cell_type": "code",
   "execution_count": 14,
   "id": "89bafe76-71f0-4942-84c9-a72b60b01ae3",
   "metadata": {
    "tags": []
   },
   "outputs": [
    {
     "name": "stdout",
     "output_type": "stream",
     "text": [
      "Rerunning server... use `close()` to stop if you need to change `launch()` parameters.\n",
      "----\n",
      "Running on local URL:  http://127.0.0.1:7860\n",
      "\n",
      "To create a public link, set `share=True` in `launch()`.\n"
     ]
    },
    {
     "data": {
      "text/html": [
       "<div><iframe src=\"http://127.0.0.1:7860/\" width=\"100%\" height=\"500\" allow=\"autoplay; camera; microphone; clipboard-read; clipboard-write;\" frameborder=\"0\" allowfullscreen></iframe></div>"
      ],
      "text/plain": [
       "<IPython.core.display.HTML object>"
      ]
     },
     "metadata": {},
     "output_type": "display_data"
    },
    {
     "data": {
      "text/plain": []
     },
     "execution_count": 14,
     "metadata": {},
     "output_type": "execute_result"
    }
   ],
   "source": [
    "demo2.launch()"
   ]
  },
  {
   "cell_type": "code",
   "execution_count": null,
   "id": "dedd5755-1528-4780-9891-a7f8092c8622",
   "metadata": {},
   "outputs": [],
   "source": []
  }
 ],
 "metadata": {
  "kernelspec": {
   "display_name": "Python 3 (ipykernel)",
   "language": "python",
   "name": "python3"
  },
  "language_info": {
   "codemirror_mode": {
    "name": "ipython",
    "version": 3
   },
   "file_extension": ".py",
   "mimetype": "text/x-python",
   "name": "python",
   "nbconvert_exporter": "python",
   "pygments_lexer": "ipython3",
   "version": "3.11.1"
  }
 },
 "nbformat": 4,
 "nbformat_minor": 5
}
