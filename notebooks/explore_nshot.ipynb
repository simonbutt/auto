{
 "cells": [
  {
   "cell_type": "code",
   "execution_count": 1,
   "metadata": {},
   "outputs": [],
   "source": [
    "import openai\n",
    "import json"
   ]
  },
  {
   "cell_type": "code",
   "execution_count": 2,
   "metadata": {
    "tags": []
   },
   "outputs": [],
   "source": [
    "SYSTEM_PREFIX = \"\"\"You are an AI Python developer assistant.\n",
    "- You are building a Vertex AI Pipeline component that takes an input and produces an output based on user requested actions.\n",
    "- The `google-cloud-aiplatform` and `openai` packages are already installed.\n",
    "- Follow the user's instructions carefully & to the letter.\n",
    "- Minimize any other prose.\n",
    "- The component has to follow the template and only add the following sections:`COMPONENT_NAME`, `CONTAINER_IMAGE`, `PACKAGES_TO_INSTALL`, `INPUT_VARIABLES`, `INPUT_VARIABLES_TYPE`, `INPUT_VARIABLES_DESCRIPTION`, `RETURN_VARIABLES`, `RETURN_VARIABLES_TYPE`, `RETURN_VARIABLES_DESCRIPTION`, `COMPONENT_CODE`, `BRIEF_COMPONENT_DESCRIPTION`.\n",
    "\n",
    "\"\"\"\n",
    "\n",
    "COMPONENT_TEMPLATE_PROMPT=\"\"\"\n",
    "Follow the following template to generate the code for your component:\n",
    "```\n",
    "from kfp.v2.dsl import Dataset, Input, Output, Model, component\n",
    "from pathlib import Path\n",
    "\n",
    "\n",
    "@component(\n",
    "    base_image=\"{CONTAINER_IMAGE}\",\n",
    "    packages_to_install=[{PACKAGES_TO_INSTALL}],\n",
    "    output_component_file=str(Path(__file__).with_suffix(\".yaml\")),\n",
    ")\n",
    "def {COMPONENT_NAME}(\n",
    "    {INPUT_VARIABLES}: {INPUT_VARIABLES_TYPE},\n",
    ") -> None:\n",
    "    \\\"\"\"{BRIEF_COMPONENT_DESCRIPTION}\n",
    "\n",
    "    Args:\n",
    "        {INPUT_VARIABLES} ({INPUT_VARIABLES_TYPE}): {INPUT_VARIABLES_DESCRIPTION}\n",
    "\n",
    "    Returns:\n",
    "        {RETURN_VARIABLES} ({RETURN_VARIABLES_TYPE}): {RETURN_VARIABLES_DESCRIPTION}\n",
    "    \\\"\"\"\n",
    "    import logging\n",
    "\n",
    "    logging.getLogger().setLevel(logging.INFO)\n",
    "    import {PACKAGES_TO_INSTALL}\n",
    "\n",
    "    {COMPONENT_CODE}\n",
    "    \n",
    "```\n",
    "\"\"\"\n",
    "\n",
    "PIPELINE_TEMPLATE_PROMPT=\"\"\"\n",
    "Follow the following template to generate an example pipeline to run your component:\n",
    "```\n",
    "from kfp.v2.dsl import pipeline\n",
    "\n",
    "@pipeline(\n",
    "    name=\"{PIPELINE_NAME}\",\n",
    "    description=\"\",\n",
    "    pipeline_root=\"\"\n",
    ")\n",
    "def {COMPONENT_NAME}_pipeline(\n",
    "    {INPUT_VARIABLES}: {INPUT_VARIABLES_TYPE},\n",
    "):\n",
    "    \"A pipeline that runs {COMPONENT_NAME}\"\n",
    "    {PIPELINE_CODE}\n",
    "\n",
    "pipeline_arguments={EXAMPLE_PIPELINE_ARGUMENTS}\n",
    "\n",
    "client = kfp.Client()\n",
    "client.create_run_from_pipeline_func(\n",
    "    {PIPELINE_NAME},\n",
    "    arguments={EXAMPLE_PIPELINE_ARGUMENTS},\n",
    "    mode=kfp.dsl.PipelineExecutionMode.V2_COMPATIBLE\n",
    ")\n",
    "\n",
    "```\n",
    "\"\"\""
   ]
  },
  {
   "cell_type": "code",
   "execution_count": 3,
   "metadata": {
    "tags": []
   },
   "outputs": [],
   "source": [
    "message = \"Write a component that takes a GCS path containing multiple images (either .png or .json) {image_path: string} from a GCS bucket and uses grabcut to segment the images into a foreground and background. The component should output the foreground and background images to the GCS bucket in folder path {output_gcs_folder: string}.\"\n",
    "\n",
    "message_list = [\n",
    "    {\"role\": \"system\", \"content\": COMPONENT_TEMPLATE_PROMPT},\n",
    "    {\"role\": \"user\", \"content\": message}\n",
    "]"
   ]
  },
  {
   "cell_type": "code",
   "execution_count": 4,
   "metadata": {
    "tags": []
   },
   "outputs": [],
   "source": [
    "response = openai.ChatCompletion.create(\n",
    "    model=\"gpt-3.5-turbo\",\n",
    "    messages=message_list,\n",
    "    n=3\n",
    ")\n"
   ]
  },
  {
   "cell_type": "code",
   "execution_count": 5,
   "metadata": {
    "tags": []
   },
   "outputs": [],
   "source": [
    "get_code = lambda choice_config : choice_config[\"message\"][\"content\"].split(\"```\")[1].removeprefix(\"\\n\")"
   ]
  },
  {
   "cell_type": "code",
   "execution_count": 6,
   "metadata": {
    "tags": []
   },
   "outputs": [],
   "source": [
    "messages_5shot = [get_code(response[\"choices\"][i]) for i in range(len(response[\"choices\"]))]"
   ]
  },
  {
   "cell_type": "code",
   "execution_count": 7,
   "metadata": {
    "tags": []
   },
   "outputs": [
    {
     "data": {
      "text/plain": [
       "['from kfp.v2.dsl import Dataset, Input, Output, Model, component\\nfrom pathlib import Path\\nfrom typing import List\\nimport os\\nfrom google.cloud import storage\\nimport cv2\\nimport numpy as np\\n\\n\\n@component(\\n    base_image=\"python:3.9\",\\n    packages_to_install=[\"google-cloud-storage\", \"opencv-python-headless\"],\\n    output_component_file=str(Path(__file__).with_suffix(\".yaml\")),\\n)\\ndef image_segmentation(\\n    image_path: str,\\n    output_gcs_folder: str\\n) -> None:\\n    \"\"\"This component segments foreground and background from input images using grabcut algorithm.\\n\\n    Args:\\n        image_path (str): Path of the GCS bucket containing the input images.\\n        output_gcs_folder (str): Path of the GCS bucket to save the output images.\\n\\n    Returns:\\n        None\\n    \"\"\"\\n\\n    # Create a client object and load input images from the gcs bucket\\n    client = storage.Client()\\n    bucket_name = image_path.split(\"/\")[2]\\n    bucket = client.bucket(bucket_name)\\n    blob_list = list(bucket.list_blobs(prefix=image_path.split(bucket_name)[1][1:], ))\\n    \\n    for blob in blob_list:\\n        \\n        # Read the image from blob and convert to OpenCV format\\n        blob_bytes = blob.download_as_bytes()\\n        np_arr = np.frombuffer(blob_bytes, np.uint8)\\n        img = cv2.imdecode(np_arr, cv2.IMREAD_UNCHANGED)\\n        \\n        # Compute the mask and perform grabcut algorithm\\n        mask = np.zeros(img.shape[:2], np.uint8)\\n        bgdModel = np.zeros((1, 65), np.float64)\\n        fgdModel = np.zeros((1, 65), np.float64)\\n        rect = (1, 1, img.shape[0]-1, img.shape[1]-1)\\n        cv2.grabCut(img, mask, rect, bgdModel, fgdModel, 5, cv2.GC_INIT_WITH_RECT)\\n        mask2 = np.where((mask==2)|(mask==0), 0, 1).astype(\\'uint8\\')\\n        segmented_img = img * mask2[:, :, np.newaxis]\\n        mask = mask2*255\\n        \\n        # Create a folder in the output GCS bucket and upload the segmented image and mask\\n        output_folder_blob = bucket.blob(output_gcs_folder + os.path.dirname(blob.name.split(image_path.split(bucket_name)[1][1:])[1]))\\n        output_folder_blob.upload_from_string(\"\")\\n        image_name = os.path.basename(blob.name)\\n        cv2.imwrite(\"/tmp/\"+os.path.splitext(image_name)[0]+\"_bg.png\", segmented_img)\\n        cv2.imwrite(\"/tmp/\"+os.path.splitext(image_name)[0]+\"_mask.png\", mask)\\n        output_img_blob = bucket.blob(output_gcs_folder + os.path.splitext(blob.name.split(image_path.split(bucket_name)[1][1:])[1])[0] + \"_bg.png\")\\n        output_mask_blob = bucket.blob(output_gcs_folder +os.path.splitext(blob.name.split(image_path.split(bucket_name)[1][1:])[1])[0] + \"_mask.png\")\\n        output_img_blob.upload_from_filename(\"/tmp/\"+os.path.splitext(image_name)[0]+\"_bg.png\")\\n        output_mask_blob.upload_from_filename(\"/tmp/\"+os.path.splitext(image_name)[0]+\"_mask.png\")\\n',\n",
       " 'from kfp.v2.dsl import Dataset, Input, Output, Model, component\\nfrom pathlib import Path\\n\\n@component(\\n    base_image=\"python:3.9\",\\n    packages_to_install=[\"google-cloud-storage\", \"opencv-python-headless\"],\\n    output_component_file=str(Path(__file__).with_suffix(\".yaml\")),\\n)\\ndef grabcut_segmentation(\\n    image_path: str,\\n    output_gcs_folder: str,\\n) -> None:\\n    \"\"\"Segments images into foreground and background using GrabCut algorithm.\\n\\n    Args:\\n        image_path (str): GCS path to the folder containing input images (.png or .jpg).\\n        output_gcs_folder (str): GCS path of directory to store segmented images.\\n\\n    Returns:\\n        None\\n    \"\"\"\\n\\n    import os\\n    import logging\\n    import cv2\\n    import numpy as np\\n    import google.cloud.storage as gcs\\n    \\n    logging.getLogger().setLevel(logging.INFO)\\n\\n    # Helper function to download file from GCS bucket.\\n    def download_blob(bucket_name, source_blob_name, destination_file_name):\\n        logging.info(f\"Downloading file {source_blob_name} to {destination_file_name}\")\\n        storage_client = gcs.Client()\\n        bucket = storage_client.bucket(bucket_name)\\n        blob = bucket.blob(source_blob_name)\\n\\n        if not os.path.exists(os.path.dirname(destination_file_name)):\\n            os.makedirs(os.path.dirname(destination_file_name))\\n\\n        blob.download_to_filename(destination_file_name)\\n        logging.info(f\"File {source_blob_name} downloaded to {destination_file_name}\")\\n\\n    # Helper function to upload file to GCS bucket.\\n    def upload_blob(bucket_name, source_file_name, destination_blob_name):\\n        logging.info(f\"Uploading file {source_file_name} to {destination_blob_name}\")\\n        storage_client = gcs.Client()\\n        bucket = storage_client.bucket(bucket_name)\\n        blob = bucket.blob(destination_blob_name)\\n\\n        blob.upload_from_filename(source_file_name)\\n        logging.info(f\"File {source_file_name} uploaded to {destination_blob_name}\")\\n\\n    # Create temporary folder to store intermediate files.\\n    temp_dir = \"temp/\"\\n    if not os.path.exists(temp_dir):\\n        os.makedirs(temp_dir)\\n\\n    # Download images from bucket to local machine and apply GrabCut.\\n    if image_path.endswith(\"/\"):\\n        image_path = image_path[:-1]\\n\\n    bucket_name, bucket_path = image_path.split(\\'/\\', 3)[2], image_path.split(\\'/\\', 3)[3]\\n    images = [f\"{temp_dir}/{f}\" for f in os.listdir(temp_dir) if os.path.isfile(os.path.join(temp_dir, f))]\\n\\n    storage_client = gcs.Client()\\n    blobs = storage_client.list_blobs(bucket_name, prefix=bucket_path)\\n    for blob in blobs:\\n        if \"png\" in blob.name or \"jpg\" in blob.name:\\n            download_blob(bucket_name, blob.name, f\"{temp_dir}/{blob.name.split(\\'/\\')[-1]}\")\\n            images.append(f\"{temp_dir}/{blob.name.split(\\'/\\')[-1]}\")\\n\\n    fg_bg_images = []\\n    for img_path in images:\\n        img = cv2.imread(img_path)\\n        mask = np.zeros(img.shape[:2], np.uint8)\\n        background_model = np.zeros((1, 65), np.float64)\\n        foreground_model = np.zeros((1, 65), np.float64)\\n        rect = (50, 50, img.shape[0]-50, img.shape[1]-100)\\n\\n        cv2.grabCut(img, mask, rect, background_model, foreground_model, 3, cv2.GC_INIT_WITH_RECT)\\n        mask2 = np.where((mask==2)|(mask==0),0,1).astype(\\'uint8\\')\\n        img = img*mask2[:,:,np.newaxis]\\n        fg_bg_images.append(os.path.basename(img_path).split(\".\")[0])\\n\\n        # Upload foreground and background images to GCS bucket.\\n        upload_blob(bucket_name, f\"{temp_dir}/{fg_bg_images[-1]}_foreground.png\", f\"{output_gcs_folder}/{fg_bg_images[-1]}_foreground.png\")\\n        upload_blob(bucket_name, f\"{temp_dir}/{fg_bg_images[-1]}_background.png\", f\"{output_gcs_folder}/{fg_bg_images[-1]}_background.png\")\\n\\n    # Remove temporary folder.\\n    for f in os.listdir(temp_dir):\\n        os.remove(os.path.join(temp_dir, f))\\n    os.rmdir(temp_dir)\\n',\n",
       " 'from kfp.v2.dsl import Dataset, Input, Output, Model, component\\nfrom pathlib import Path\\nfrom google.cloud import storage\\nimport cv2\\nimport os\\n\\n\\n@component(\\n    base_image=\"openjdk:8-jre-slim\",\\n    packages_to_install=[\"google-cloud-storage\", \"opencv-python-headless\"],\\n    output_component_file=str(Path(__file__).with_suffix(\".yaml\")),\\n)\\ndef grabcut_segmenter(\\n    image_path: str,\\n    output_gcs_folder: str,\\n) -> None:\\n    \"\"\"A component that uses grabcut to segment foreground and background of multiple images stored in a GCS bucket.\\n\\n    Args:\\n        image_path (str): The GCS path containing multiple images to be segmented.\\n        output_gcs_folder (str): The GCS path where the segmented images will be stored.\\n\\n    Returns:\\n        None.\\n\\n    \"\"\"\\n    \\n    # Setting up GCS client\\n    storage_client = storage.Client()\\n    bucket_name = image_path.split(\\'/\\')[2]\\n    bucket = storage_client.bucket(bucket_name)\\n    \\n    # GrabCut parameters\\n    iterations = 1\\n    mode = cv2.GC_INIT_WITH_RECT\\n    \\n    # Looping over all images in the GCS directory\\n    for blob in storage_client.list_blobs(bucket_name, prefix=image_path):\\n        \\n        # Reading image from GCS\\n        blob_path = str(blob.name)\\n        if not blob_path.endswith((\\'.png\\', \\'.PNG\\', \\'.json\\', \\'.JSON\\')):\\n            continue  # skip non-image files\\n        file_name = blob_path.split(\\'/\\')[-1]\\n        image_blob = bucket.blob(blob_path)\\n        _, contents = image_blob.download_as_bytes()\\n        nparr = np.fromstring(contents, np.uint8)\\n        img = cv2.imdecode(nparr, cv2.IMREAD_COLOR)\\n        \\n        # Running GrabCut\\n        mask = np.zeros(img.shape[:2],np.uint8)\\n        background_model = np.zeros((1,65),np.float64)\\n        foreground_model = np.zeros((1,65),np.float64)\\n        rect = (10,10,img.shape[1]-10,img.shape[0]-10)\\n        cv2.grabCut(img,mask,rect,background_model,foreground_model,iterations,mode)\\n        \\n        # Extracting foreground and background from the image\\n        foreground = np.where((mask==1)+(mask==3),255,0).astype(\\'uint8\\')\\n        background = cv2.bitwise_not(foreground)\\n        \\n        # Writing output to GCS\\n        foreground_blob = bucket.blob(f\"{output_gcs_folder}/{file_name}.foreground.png\")\\n        foreground_blob.upload_from_string(\\n            cv2.imencode(\\'.png\\', foreground)[1].tobytes(),\\n            content_type=\\'image/png\\'\\n        )\\n        background_blob = bucket.blob(f\"{output_gcs_folder}/{file_name}.background.png\")\\n        background_blob.upload_from_string(\\n            cv2.imencode(\\'.png\\', background)[1].tobytes(),\\n            content_type=\\'image/png\\'\\n        )\\n\\n']"
      ]
     },
     "execution_count": 7,
     "metadata": {},
     "output_type": "execute_result"
    }
   ],
   "source": [
    "messages_5shot"
   ]
  },
  {
   "cell_type": "code",
   "execution_count": 8,
   "metadata": {
    "tags": []
   },
   "outputs": [],
   "source": [
    "snippet_txt = \"\\n\\n\".join([\n",
    "    f\"snippet: {i+1}.\\n```{messages_5shot[i]}```\" for i in range(len(messages_5shot))\n",
    "])"
   ]
  },
  {
   "cell_type": "code",
   "execution_count": 9,
   "metadata": {
    "tags": []
   },
   "outputs": [
    {
     "name": "stdout",
     "output_type": "stream",
     "text": [
      "snippet: 1.\n",
      "```from kfp.v2.dsl import Dataset, Input, Output, Model, component\n",
      "from pathlib import Path\n",
      "from typing import List\n",
      "import os\n",
      "from google.cloud import storage\n",
      "import cv2\n",
      "import numpy as np\n",
      "\n",
      "\n",
      "@component(\n",
      "    base_image=\"python:3.9\",\n",
      "    packages_to_install=[\"google-cloud-storage\", \"opencv-python-headless\"],\n",
      "    output_component_file=str(Path(__file__).with_suffix(\".yaml\")),\n",
      ")\n",
      "def image_segmentation(\n",
      "    image_path: str,\n",
      "    output_gcs_folder: str\n",
      ") -> None:\n",
      "    \"\"\"This component segments foreground and background from input images using grabcut algorithm.\n",
      "\n",
      "    Args:\n",
      "        image_path (str): Path of the GCS bucket containing the input images.\n",
      "        output_gcs_folder (str): Path of the GCS bucket to save the output images.\n",
      "\n",
      "    Returns:\n",
      "        None\n",
      "    \"\"\"\n",
      "\n",
      "    # Create a client object and load input images from the gcs bucket\n",
      "    client = storage.Client()\n",
      "    bucket_name = image_path.split(\"/\")[2]\n",
      "    bucket = client.bucket(bucket_name)\n",
      "    blob_list = list(bucket.list_blobs(prefix=image_path.split(bucket_name)[1][1:], ))\n",
      "    \n",
      "    for blob in blob_list:\n",
      "        \n",
      "        # Read the image from blob and convert to OpenCV format\n",
      "        blob_bytes = blob.download_as_bytes()\n",
      "        np_arr = np.frombuffer(blob_bytes, np.uint8)\n",
      "        img = cv2.imdecode(np_arr, cv2.IMREAD_UNCHANGED)\n",
      "        \n",
      "        # Compute the mask and perform grabcut algorithm\n",
      "        mask = np.zeros(img.shape[:2], np.uint8)\n",
      "        bgdModel = np.zeros((1, 65), np.float64)\n",
      "        fgdModel = np.zeros((1, 65), np.float64)\n",
      "        rect = (1, 1, img.shape[0]-1, img.shape[1]-1)\n",
      "        cv2.grabCut(img, mask, rect, bgdModel, fgdModel, 5, cv2.GC_INIT_WITH_RECT)\n",
      "        mask2 = np.where((mask==2)|(mask==0), 0, 1).astype('uint8')\n",
      "        segmented_img = img * mask2[:, :, np.newaxis]\n",
      "        mask = mask2*255\n",
      "        \n",
      "        # Create a folder in the output GCS bucket and upload the segmented image and mask\n",
      "        output_folder_blob = bucket.blob(output_gcs_folder + os.path.dirname(blob.name.split(image_path.split(bucket_name)[1][1:])[1]))\n",
      "        output_folder_blob.upload_from_string(\"\")\n",
      "        image_name = os.path.basename(blob.name)\n",
      "        cv2.imwrite(\"/tmp/\"+os.path.splitext(image_name)[0]+\"_bg.png\", segmented_img)\n",
      "        cv2.imwrite(\"/tmp/\"+os.path.splitext(image_name)[0]+\"_mask.png\", mask)\n",
      "        output_img_blob = bucket.blob(output_gcs_folder + os.path.splitext(blob.name.split(image_path.split(bucket_name)[1][1:])[1])[0] + \"_bg.png\")\n",
      "        output_mask_blob = bucket.blob(output_gcs_folder +os.path.splitext(blob.name.split(image_path.split(bucket_name)[1][1:])[1])[0] + \"_mask.png\")\n",
      "        output_img_blob.upload_from_filename(\"/tmp/\"+os.path.splitext(image_name)[0]+\"_bg.png\")\n",
      "        output_mask_blob.upload_from_filename(\"/tmp/\"+os.path.splitext(image_name)[0]+\"_mask.png\")\n",
      "```\n",
      "\n",
      "snippet: 2.\n",
      "```from kfp.v2.dsl import Dataset, Input, Output, Model, component\n",
      "from pathlib import Path\n",
      "\n",
      "@component(\n",
      "    base_image=\"python:3.9\",\n",
      "    packages_to_install=[\"google-cloud-storage\", \"opencv-python-headless\"],\n",
      "    output_component_file=str(Path(__file__).with_suffix(\".yaml\")),\n",
      ")\n",
      "def grabcut_segmentation(\n",
      "    image_path: str,\n",
      "    output_gcs_folder: str,\n",
      ") -> None:\n",
      "    \"\"\"Segments images into foreground and background using GrabCut algorithm.\n",
      "\n",
      "    Args:\n",
      "        image_path (str): GCS path to the folder containing input images (.png or .jpg).\n",
      "        output_gcs_folder (str): GCS path of directory to store segmented images.\n",
      "\n",
      "    Returns:\n",
      "        None\n",
      "    \"\"\"\n",
      "\n",
      "    import os\n",
      "    import logging\n",
      "    import cv2\n",
      "    import numpy as np\n",
      "    import google.cloud.storage as gcs\n",
      "    \n",
      "    logging.getLogger().setLevel(logging.INFO)\n",
      "\n",
      "    # Helper function to download file from GCS bucket.\n",
      "    def download_blob(bucket_name, source_blob_name, destination_file_name):\n",
      "        logging.info(f\"Downloading file {source_blob_name} to {destination_file_name}\")\n",
      "        storage_client = gcs.Client()\n",
      "        bucket = storage_client.bucket(bucket_name)\n",
      "        blob = bucket.blob(source_blob_name)\n",
      "\n",
      "        if not os.path.exists(os.path.dirname(destination_file_name)):\n",
      "            os.makedirs(os.path.dirname(destination_file_name))\n",
      "\n",
      "        blob.download_to_filename(destination_file_name)\n",
      "        logging.info(f\"File {source_blob_name} downloaded to {destination_file_name}\")\n",
      "\n",
      "    # Helper function to upload file to GCS bucket.\n",
      "    def upload_blob(bucket_name, source_file_name, destination_blob_name):\n",
      "        logging.info(f\"Uploading file {source_file_name} to {destination_blob_name}\")\n",
      "        storage_client = gcs.Client()\n",
      "        bucket = storage_client.bucket(bucket_name)\n",
      "        blob = bucket.blob(destination_blob_name)\n",
      "\n",
      "        blob.upload_from_filename(source_file_name)\n",
      "        logging.info(f\"File {source_file_name} uploaded to {destination_blob_name}\")\n",
      "\n",
      "    # Create temporary folder to store intermediate files.\n",
      "    temp_dir = \"temp/\"\n",
      "    if not os.path.exists(temp_dir):\n",
      "        os.makedirs(temp_dir)\n",
      "\n",
      "    # Download images from bucket to local machine and apply GrabCut.\n",
      "    if image_path.endswith(\"/\"):\n",
      "        image_path = image_path[:-1]\n",
      "\n",
      "    bucket_name, bucket_path = image_path.split('/', 3)[2], image_path.split('/', 3)[3]\n",
      "    images = [f\"{temp_dir}/{f}\" for f in os.listdir(temp_dir) if os.path.isfile(os.path.join(temp_dir, f))]\n",
      "\n",
      "    storage_client = gcs.Client()\n",
      "    blobs = storage_client.list_blobs(bucket_name, prefix=bucket_path)\n",
      "    for blob in blobs:\n",
      "        if \"png\" in blob.name or \"jpg\" in blob.name:\n",
      "            download_blob(bucket_name, blob.name, f\"{temp_dir}/{blob.name.split('/')[-1]}\")\n",
      "            images.append(f\"{temp_dir}/{blob.name.split('/')[-1]}\")\n",
      "\n",
      "    fg_bg_images = []\n",
      "    for img_path in images:\n",
      "        img = cv2.imread(img_path)\n",
      "        mask = np.zeros(img.shape[:2], np.uint8)\n",
      "        background_model = np.zeros((1, 65), np.float64)\n",
      "        foreground_model = np.zeros((1, 65), np.float64)\n",
      "        rect = (50, 50, img.shape[0]-50, img.shape[1]-100)\n",
      "\n",
      "        cv2.grabCut(img, mask, rect, background_model, foreground_model, 3, cv2.GC_INIT_WITH_RECT)\n",
      "        mask2 = np.where((mask==2)|(mask==0),0,1).astype('uint8')\n",
      "        img = img*mask2[:,:,np.newaxis]\n",
      "        fg_bg_images.append(os.path.basename(img_path).split(\".\")[0])\n",
      "\n",
      "        # Upload foreground and background images to GCS bucket.\n",
      "        upload_blob(bucket_name, f\"{temp_dir}/{fg_bg_images[-1]}_foreground.png\", f\"{output_gcs_folder}/{fg_bg_images[-1]}_foreground.png\")\n",
      "        upload_blob(bucket_name, f\"{temp_dir}/{fg_bg_images[-1]}_background.png\", f\"{output_gcs_folder}/{fg_bg_images[-1]}_background.png\")\n",
      "\n",
      "    # Remove temporary folder.\n",
      "    for f in os.listdir(temp_dir):\n",
      "        os.remove(os.path.join(temp_dir, f))\n",
      "    os.rmdir(temp_dir)\n",
      "```\n",
      "\n",
      "snippet: 3.\n",
      "```from kfp.v2.dsl import Dataset, Input, Output, Model, component\n",
      "from pathlib import Path\n",
      "from google.cloud import storage\n",
      "import cv2\n",
      "import os\n",
      "\n",
      "\n",
      "@component(\n",
      "    base_image=\"openjdk:8-jre-slim\",\n",
      "    packages_to_install=[\"google-cloud-storage\", \"opencv-python-headless\"],\n",
      "    output_component_file=str(Path(__file__).with_suffix(\".yaml\")),\n",
      ")\n",
      "def grabcut_segmenter(\n",
      "    image_path: str,\n",
      "    output_gcs_folder: str,\n",
      ") -> None:\n",
      "    \"\"\"A component that uses grabcut to segment foreground and background of multiple images stored in a GCS bucket.\n",
      "\n",
      "    Args:\n",
      "        image_path (str): The GCS path containing multiple images to be segmented.\n",
      "        output_gcs_folder (str): The GCS path where the segmented images will be stored.\n",
      "\n",
      "    Returns:\n",
      "        None.\n",
      "\n",
      "    \"\"\"\n",
      "    \n",
      "    # Setting up GCS client\n",
      "    storage_client = storage.Client()\n",
      "    bucket_name = image_path.split('/')[2]\n",
      "    bucket = storage_client.bucket(bucket_name)\n",
      "    \n",
      "    # GrabCut parameters\n",
      "    iterations = 1\n",
      "    mode = cv2.GC_INIT_WITH_RECT\n",
      "    \n",
      "    # Looping over all images in the GCS directory\n",
      "    for blob in storage_client.list_blobs(bucket_name, prefix=image_path):\n",
      "        \n",
      "        # Reading image from GCS\n",
      "        blob_path = str(blob.name)\n",
      "        if not blob_path.endswith(('.png', '.PNG', '.json', '.JSON')):\n",
      "            continue  # skip non-image files\n",
      "        file_name = blob_path.split('/')[-1]\n",
      "        image_blob = bucket.blob(blob_path)\n",
      "        _, contents = image_blob.download_as_bytes()\n",
      "        nparr = np.fromstring(contents, np.uint8)\n",
      "        img = cv2.imdecode(nparr, cv2.IMREAD_COLOR)\n",
      "        \n",
      "        # Running GrabCut\n",
      "        mask = np.zeros(img.shape[:2],np.uint8)\n",
      "        background_model = np.zeros((1,65),np.float64)\n",
      "        foreground_model = np.zeros((1,65),np.float64)\n",
      "        rect = (10,10,img.shape[1]-10,img.shape[0]-10)\n",
      "        cv2.grabCut(img,mask,rect,background_model,foreground_model,iterations,mode)\n",
      "        \n",
      "        # Extracting foreground and background from the image\n",
      "        foreground = np.where((mask==1)+(mask==3),255,0).astype('uint8')\n",
      "        background = cv2.bitwise_not(foreground)\n",
      "        \n",
      "        # Writing output to GCS\n",
      "        foreground_blob = bucket.blob(f\"{output_gcs_folder}/{file_name}.foreground.png\")\n",
      "        foreground_blob.upload_from_string(\n",
      "            cv2.imencode('.png', foreground)[1].tobytes(),\n",
      "            content_type='image/png'\n",
      "        )\n",
      "        background_blob = bucket.blob(f\"{output_gcs_folder}/{file_name}.background.png\")\n",
      "        background_blob.upload_from_string(\n",
      "            cv2.imencode('.png', background)[1].tobytes(),\n",
      "            content_type='image/png'\n",
      "        )\n",
      "\n",
      "```\n"
     ]
    }
   ],
   "source": [
    "print(snippet_txt)"
   ]
  },
  {
   "cell_type": "code",
   "execution_count": 29,
   "metadata": {
    "tags": []
   },
   "outputs": [],
   "source": [
    "REVIEW_NSHOT_PROMPT = \"\"\"\n",
    "Review the following kfp component code snippets and return a snippet_name, accuracy_score and accuracy_summary for each component.\n",
    "\n",
    "The accuracy_score should be in percentage format and based on how closely the snippets follows:\n",
    "- Ability to complete the users request\n",
    "- The correct python packages have been added to `packages_to_install` and then imported in the component method code.\n",
    "- System kfp component template\n",
    "- Penalise for importing component packages at the top of the snippet and not in the component method.\n",
    "- Penalise for not importing the logging package in the component\n",
    "\"\"\"\n",
    "\n",
    "\n",
    "REVIEW_RETURN_STRUCT = \"\"\"\n",
    "--------\n",
    "Return the message in the following JSON list structure\n",
    "\n",
    "[\n",
    "  {\n",
    "    \"snippet_name\": int,\n",
    "    \"accuracy_score\": int,\n",
    "    \"accuracy_summary\": string\n",
    "  }\n",
    "]\n",
    "\"\"\""
   ]
  },
  {
   "cell_type": "code",
   "execution_count": 30,
   "metadata": {
    "tags": []
   },
   "outputs": [],
   "source": [
    "response = openai.ChatCompletion.create(\n",
    "    model=\"gpt-3.5-turbo\",\n",
    "    messages=[\n",
    "        {\"role\": \"system\", \"content\": REVIEW_NSHOT_PROMPT},\n",
    "        {\"role\": \"user\", \"content\": f\"{snippet_txt}\\n{REVIEW_RETURN_STRUCT}\"}\n",
    "    ],\n",
    ")"
   ]
  },
  {
   "cell_type": "code",
   "execution_count": 31,
   "metadata": {
    "tags": []
   },
   "outputs": [
    {
     "name": "stdout",
     "output_type": "stream",
     "text": [
      "[\n",
      "  {\n",
      "    \"snippet_name\": 1,\n",
      "    \"accuracy_score\": 90,\n",
      "    \"accuracy_summary\": \"This snippet uses the correct packages and imports and follows the KFP system component template. However, some of the system imports should be moved inside the component method instead of being imported at the top of the file.\"\n",
      "  },\n",
      "  {\n",
      "    \"snippet_name\": 2,\n",
      "    \"accuracy_score\": 100,\n",
      "    \"accuracy_summary\": \"This snippet correctly adds the necessary packages and imports inside the component method. It also follows the KFP system component template.\"\n",
      "  },\n",
      "  {\n",
      "    \"snippet_name\": 3,\n",
      "    \"accuracy_score\": 70,\n",
      "    \"accuracy_summary\": \"This snippet uses the correct packages and follows the KFP system component template, however it does not import the logging package and should avoid importing the packages to the top of the file. Therefore, the code could be improved.\"\n",
      "  }\n",
      "]\n"
     ]
    }
   ],
   "source": [
    "review_config_raw = response[\"choices\"][0][\"message\"][\"content\"]\n",
    "print(review_config_raw)"
   ]
  },
  {
   "cell_type": "code",
   "execution_count": 46,
   "metadata": {
    "tags": []
   },
   "outputs": [],
   "source": [
    "review_config_raw = '[\\n  {\\n    \"snippet_name\": 1,\\n    \"accuracy_score\": 90,\\n    \"accuracy_summary\": \"This snippet uses the correct packages and imports and follows the KFP system component template. However, some of the system imports should be moved inside the component method instead of being imported at the top of the file.\"\\n  },\\n  {\\n    \"snippet_name\": 2,\\n    \"accuracy_score\": 100,\\n    \"accuracy_summary\": \"This snippet correctly adds the necessary packages and imports inside the component method. It also follows the KFP system component template.\"\\n  },\\n  {\\n    \"snippet_name\": 3,\\n    \"accuracy_score\": 70,\\n    \"accuracy_summary\": \"This snippet uses the correct packages and follows the KFP system component template, however it does not import the logging package and should avoid importing the packages to the top of the file. Therefore, the code could be improved.\"\\n  }\\n]]'"
   ]
  },
  {
   "cell_type": "code",
   "execution_count": 47,
   "metadata": {
    "tags": []
   },
   "outputs": [
    {
     "ename": "JSONDecodeError",
     "evalue": "Extra data: line 17 column 2 (char 862)",
     "output_type": "error",
     "traceback": [
      "\u001b[0;31m---------------------------------------------------------------------------\u001b[0m",
      "\u001b[0;31mJSONDecodeError\u001b[0m                           Traceback (most recent call last)",
      "Cell \u001b[0;32mIn[47], line 1\u001b[0m\n\u001b[0;32m----> 1\u001b[0m review_config \u001b[38;5;241m=\u001b[39m \u001b[43mjson\u001b[49m\u001b[38;5;241;43m.\u001b[39;49m\u001b[43mloads\u001b[49m\u001b[43m(\u001b[49m\u001b[43mreview_config_raw\u001b[49m\u001b[43m)\u001b[49m\n\u001b[1;32m      2\u001b[0m review_config\n",
      "File \u001b[0;32m~/.pyenv/versions/3.11.1/lib/python3.11/json/__init__.py:346\u001b[0m, in \u001b[0;36mloads\u001b[0;34m(s, cls, object_hook, parse_float, parse_int, parse_constant, object_pairs_hook, **kw)\u001b[0m\n\u001b[1;32m    341\u001b[0m     s \u001b[38;5;241m=\u001b[39m s\u001b[38;5;241m.\u001b[39mdecode(detect_encoding(s), \u001b[38;5;124m'\u001b[39m\u001b[38;5;124msurrogatepass\u001b[39m\u001b[38;5;124m'\u001b[39m)\n\u001b[1;32m    343\u001b[0m \u001b[38;5;28;01mif\u001b[39;00m (\u001b[38;5;28mcls\u001b[39m \u001b[38;5;129;01mis\u001b[39;00m \u001b[38;5;28;01mNone\u001b[39;00m \u001b[38;5;129;01mand\u001b[39;00m object_hook \u001b[38;5;129;01mis\u001b[39;00m \u001b[38;5;28;01mNone\u001b[39;00m \u001b[38;5;129;01mand\u001b[39;00m\n\u001b[1;32m    344\u001b[0m         parse_int \u001b[38;5;129;01mis\u001b[39;00m \u001b[38;5;28;01mNone\u001b[39;00m \u001b[38;5;129;01mand\u001b[39;00m parse_float \u001b[38;5;129;01mis\u001b[39;00m \u001b[38;5;28;01mNone\u001b[39;00m \u001b[38;5;129;01mand\u001b[39;00m\n\u001b[1;32m    345\u001b[0m         parse_constant \u001b[38;5;129;01mis\u001b[39;00m \u001b[38;5;28;01mNone\u001b[39;00m \u001b[38;5;129;01mand\u001b[39;00m object_pairs_hook \u001b[38;5;129;01mis\u001b[39;00m \u001b[38;5;28;01mNone\u001b[39;00m \u001b[38;5;129;01mand\u001b[39;00m \u001b[38;5;129;01mnot\u001b[39;00m kw):\n\u001b[0;32m--> 346\u001b[0m     \u001b[38;5;28;01mreturn\u001b[39;00m \u001b[43m_default_decoder\u001b[49m\u001b[38;5;241;43m.\u001b[39;49m\u001b[43mdecode\u001b[49m\u001b[43m(\u001b[49m\u001b[43ms\u001b[49m\u001b[43m)\u001b[49m\n\u001b[1;32m    347\u001b[0m \u001b[38;5;28;01mif\u001b[39;00m \u001b[38;5;28mcls\u001b[39m \u001b[38;5;129;01mis\u001b[39;00m \u001b[38;5;28;01mNone\u001b[39;00m:\n\u001b[1;32m    348\u001b[0m     \u001b[38;5;28mcls\u001b[39m \u001b[38;5;241m=\u001b[39m JSONDecoder\n",
      "File \u001b[0;32m~/.pyenv/versions/3.11.1/lib/python3.11/json/decoder.py:340\u001b[0m, in \u001b[0;36mJSONDecoder.decode\u001b[0;34m(self, s, _w)\u001b[0m\n\u001b[1;32m    338\u001b[0m end \u001b[38;5;241m=\u001b[39m _w(s, end)\u001b[38;5;241m.\u001b[39mend()\n\u001b[1;32m    339\u001b[0m \u001b[38;5;28;01mif\u001b[39;00m end \u001b[38;5;241m!=\u001b[39m \u001b[38;5;28mlen\u001b[39m(s):\n\u001b[0;32m--> 340\u001b[0m     \u001b[38;5;28;01mraise\u001b[39;00m JSONDecodeError(\u001b[38;5;124m\"\u001b[39m\u001b[38;5;124mExtra data\u001b[39m\u001b[38;5;124m\"\u001b[39m, s, end)\n\u001b[1;32m    341\u001b[0m \u001b[38;5;28;01mreturn\u001b[39;00m obj\n",
      "\u001b[0;31mJSONDecodeError\u001b[0m: Extra data: line 17 column 2 (char 862)"
     ]
    }
   ],
   "source": [
    "review_config = json.loads(review_config_raw)\n",
    "review_config"
   ]
  },
  {
   "cell_type": "code",
   "execution_count": 36,
   "metadata": {
    "tags": []
   },
   "outputs": [
    {
     "data": {
      "text/plain": [
       "{90: 1, 100: 2, 70: 3}"
      ]
     },
     "execution_count": 36,
     "metadata": {},
     "output_type": "execute_result"
    }
   ],
   "source": [
    "res = {\n",
    "    val[\"accuracy_score\"]: val[\"snippet_name\"] for val in review_config\n",
    "}\n",
    "res"
   ]
  },
  {
   "cell_type": "code",
   "execution_count": 44,
   "metadata": {
    "tags": []
   },
   "outputs": [
    {
     "name": "stdout",
     "output_type": "stream",
     "text": [
      "Recommended component snippet:\n",
      "from kfp.v2.dsl import Dataset, Input, Output, Model, component\n",
      "from pathlib import Path\n",
      "\n",
      "@component(\n",
      "    base_image=\"python:3.9\",\n",
      "    packages_to_install=[\"google-cloud-storage\", \"opencv-python-headless\"],\n",
      "    output_component_file=str(Path(__file__).with_suffix(\".yaml\")),\n",
      ")\n",
      "def grabcut_segmentation(\n",
      "    image_path: str,\n",
      "    output_gcs_folder: str,\n",
      ") -> None:\n",
      "    \"\"\"Segments images into foreground and background using GrabCut algorithm.\n",
      "\n",
      "    Args:\n",
      "        image_path (str): GCS path to the folder containing input images (.png or .jpg).\n",
      "        output_gcs_folder (str): GCS path of directory to store segmented images.\n",
      "\n",
      "    Returns:\n",
      "        None\n",
      "    \"\"\"\n",
      "\n",
      "    import os\n",
      "    import logging\n",
      "    import cv2\n",
      "    import numpy as np\n",
      "    import google.cloud.storage as gcs\n",
      "    \n",
      "    logging.getLogger().setLevel(logging.INFO)\n",
      "\n",
      "    # Helper function to download file from GCS bucket.\n",
      "    def download_blob(bucket_name, source_blob_name, destination_file_name):\n",
      "        logging.info(f\"Downloading file {source_blob_name} to {destination_file_name}\")\n",
      "        storage_client = gcs.Client()\n",
      "        bucket = storage_client.bucket(bucket_name)\n",
      "        blob = bucket.blob(source_blob_name)\n",
      "\n",
      "        if not os.path.exists(os.path.dirname(destination_file_name)):\n",
      "            os.makedirs(os.path.dirname(destination_file_name))\n",
      "\n",
      "        blob.download_to_filename(destination_file_name)\n",
      "        logging.info(f\"File {source_blob_name} downloaded to {destination_file_name}\")\n",
      "\n",
      "    # Helper function to upload file to GCS bucket.\n",
      "    def upload_blob(bucket_name, source_file_name, destination_blob_name):\n",
      "        logging.info(f\"Uploading file {source_file_name} to {destination_blob_name}\")\n",
      "        storage_client = gcs.Client()\n",
      "        bucket = storage_client.bucket(bucket_name)\n",
      "        blob = bucket.blob(destination_blob_name)\n",
      "\n",
      "        blob.upload_from_filename(source_file_name)\n",
      "        logging.info(f\"File {source_file_name} uploaded to {destination_blob_name}\")\n",
      "\n",
      "    # Create temporary folder to store intermediate files.\n",
      "    temp_dir = \"temp/\"\n",
      "    if not os.path.exists(temp_dir):\n",
      "        os.makedirs(temp_dir)\n",
      "\n",
      "    # Download images from bucket to local machine and apply GrabCut.\n",
      "    if image_path.endswith(\"/\"):\n",
      "        image_path = image_path[:-1]\n",
      "\n",
      "    bucket_name, bucket_path = image_path.split('/', 3)[2], image_path.split('/', 3)[3]\n",
      "    images = [f\"{temp_dir}/{f}\" for f in os.listdir(temp_dir) if os.path.isfile(os.path.join(temp_dir, f))]\n",
      "\n",
      "    storage_client = gcs.Client()\n",
      "    blobs = storage_client.list_blobs(bucket_name, prefix=bucket_path)\n",
      "    for blob in blobs:\n",
      "        if \"png\" in blob.name or \"jpg\" in blob.name:\n",
      "            download_blob(bucket_name, blob.name, f\"{temp_dir}/{blob.name.split('/')[-1]}\")\n",
      "            images.append(f\"{temp_dir}/{blob.name.split('/')[-1]}\")\n",
      "\n",
      "    fg_bg_images = []\n",
      "    for img_path in images:\n",
      "        img = cv2.imread(img_path)\n",
      "        mask = np.zeros(img.shape[:2], np.uint8)\n",
      "        background_model = np.zeros((1, 65), np.float64)\n",
      "        foreground_model = np.zeros((1, 65), np.float64)\n",
      "        rect = (50, 50, img.shape[0]-50, img.shape[1]-100)\n",
      "\n",
      "        cv2.grabCut(img, mask, rect, background_model, foreground_model, 3, cv2.GC_INIT_WITH_RECT)\n",
      "        mask2 = np.where((mask==2)|(mask==0),0,1).astype('uint8')\n",
      "        img = img*mask2[:,:,np.newaxis]\n",
      "        fg_bg_images.append(os.path.basename(img_path).split(\".\")[0])\n",
      "\n",
      "        # Upload foreground and background images to GCS bucket.\n",
      "        upload_blob(bucket_name, f\"{temp_dir}/{fg_bg_images[-1]}_foreground.png\", f\"{output_gcs_folder}/{fg_bg_images[-1]}_foreground.png\")\n",
      "        upload_blob(bucket_name, f\"{temp_dir}/{fg_bg_images[-1]}_background.png\", f\"{output_gcs_folder}/{fg_bg_images[-1]}_background.png\")\n",
      "\n",
      "    # Remove temporary folder.\n",
      "    for f in os.listdir(temp_dir):\n",
      "        os.remove(os.path.join(temp_dir, f))\n",
      "    os.rmdir(temp_dir)\n",
      "\n"
     ]
    }
   ],
   "source": [
    "print(f\"Recommended component snippet:\\n{messages_5shot[res[sorted(res)[-1]] - 1]}\")"
   ]
  },
  {
   "cell_type": "code",
   "execution_count": null,
   "metadata": {},
   "outputs": [],
   "source": []
  }
 ],
 "metadata": {
  "kernelspec": {
   "display_name": "Python 3 (ipykernel)",
   "language": "python",
   "name": "python3"
  },
  "language_info": {
   "codemirror_mode": {
    "name": "ipython",
    "version": 3
   },
   "file_extension": ".py",
   "mimetype": "text/x-python",
   "name": "python",
   "nbconvert_exporter": "python",
   "pygments_lexer": "ipython3",
   "version": "3.11.1"
  }
 },
 "nbformat": 4,
 "nbformat_minor": 4
}
